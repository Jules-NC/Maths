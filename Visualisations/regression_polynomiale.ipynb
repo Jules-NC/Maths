{
 "cells": [
  {
   "cell_type": "markdown",
   "metadata": {},
   "source": [
    "# GenericFormulaFinder (GFF)\n",
    "___\n",
    "#### Ce papier donne au lecteur un outil pour facilement trouver l'approximation d'un polynome correspondant à une suite (si celle-ci s'assimile à un polynome).\n",
    "\n",
    "Ces résultats pourront ensuite être prouvés par hypothèse de récurrence."
   ]
  },
  {
   "cell_type": "code",
   "execution_count": 1286,
   "metadata": {
    "collapsed": true
   },
   "outputs": [],
   "source": [
    "import matplotlib.pyplot as plt\n",
    "import pandas as pd\n",
    "import numpy as np\n",
    "%matplotlib inline\n",
    "\n",
    "import fractions\n",
    "np.set_printoptions(formatter={'all':lambda x: str(fractions.Fraction(x).limit_denominator())})  # Va afficher la fractin"
   ]
  },
  {
   "cell_type": "markdown",
   "metadata": {},
   "source": [
    "## Paramètres de calcul de la suite :\n",
    "\n",
    "**nbr_points : ** Le nombre de points de la suite à **afficher** à l'écran (_sert à mieux visualiser les résultats_)\n",
    "\n",
    "**offset : ** Le rang à partir duquel commencer à calculer les termes de la suite\n",
    "\n",
    "**n : ** Le nombre de points de la suite à **calculer**. Un n assez petit (10 ou moins) est recommandé car il permet de créer \"à la main\" y."
   ]
  },
  {
   "cell_type": "code",
   "execution_count": 1292,
   "metadata": {
    "collapsed": true
   },
   "outputs": [],
   "source": [
    "nbr_points = 30  # Pas exact comme valeur\n",
    "offset = 0\n",
    "n = 10\n",
    "degre_max = 6"
   ]
  },
  {
   "cell_type": "code",
   "execution_count": 1241,
   "metadata": {
    "collapsed": true
   },
   "outputs": [],
   "source": [
    "def approx_zeros(li):\n",
    "    for i in range(0, len(li) + 1):\n",
    "        if(li[i] < 1e-9):  # Valeur seuil\n",
    "            p[i] = 0"
   ]
  },
  {
   "cell_type": "markdown",
   "metadata": {},
   "source": [
    "## Expression de la suite :\n",
    "\n",
    "Modifiez la liste **y** ci-dessous pour qu'elle corresponde aux premières valeurs de votre suite\n",
    "\n",
    "_n et offset ont déjà étés définis_\n",
    "\n",
    "Faîtes bien attention à faire correspondre x et y"
   ]
  },
  {
   "cell_type": "code",
   "execution_count": 1293,
   "metadata": {},
   "outputs": [
    {
     "name": "stdout",
     "output_type": "stream",
     "text": [
      "LONG_Y : 10\n"
     ]
    }
   ],
   "source": [
    "ecart = int((n-offset)/(nbr_points-1) + 1)\n",
    "nom_suite = \"Somme des cubes\"\n",
    "y = [sum([k**3 for k in range(j)]) for j in range(1, n+1, ecart)]\n",
    "print(\"LONG_Y :\", len(y))"
   ]
  },
  {
   "cell_type": "code",
   "execution_count": 1294,
   "metadata": {
    "scrolled": true
   },
   "outputs": [
    {
     "name": "stdout",
     "output_type": "stream",
     "text": [
      "LONG_X : 10\n"
     ]
    },
    {
     "data": {
      "text/html": [
       "<div>\n",
       "<style>\n",
       "    .dataframe thead tr:only-child th {\n",
       "        text-align: right;\n",
       "    }\n",
       "\n",
       "    .dataframe thead th {\n",
       "        text-align: left;\n",
       "    }\n",
       "\n",
       "    .dataframe tbody tr th {\n",
       "        vertical-align: top;\n",
       "    }\n",
       "</style>\n",
       "<table border=\"1\" class=\"dataframe\">\n",
       "  <thead>\n",
       "    <tr style=\"text-align: right;\">\n",
       "      <th></th>\n",
       "      <th>n</th>\n",
       "      <th>un(n)</th>\n",
       "    </tr>\n",
       "  </thead>\n",
       "  <tbody>\n",
       "    <tr>\n",
       "      <th>0</th>\n",
       "      <td>0</td>\n",
       "      <td>0</td>\n",
       "    </tr>\n",
       "    <tr>\n",
       "      <th>1</th>\n",
       "      <td>1</td>\n",
       "      <td>1</td>\n",
       "    </tr>\n",
       "    <tr>\n",
       "      <th>2</th>\n",
       "      <td>2</td>\n",
       "      <td>9</td>\n",
       "    </tr>\n",
       "    <tr>\n",
       "      <th>3</th>\n",
       "      <td>3</td>\n",
       "      <td>36</td>\n",
       "    </tr>\n",
       "    <tr>\n",
       "      <th>4</th>\n",
       "      <td>4</td>\n",
       "      <td>100</td>\n",
       "    </tr>\n",
       "    <tr>\n",
       "      <th>5</th>\n",
       "      <td>5</td>\n",
       "      <td>225</td>\n",
       "    </tr>\n",
       "    <tr>\n",
       "      <th>6</th>\n",
       "      <td>6</td>\n",
       "      <td>441</td>\n",
       "    </tr>\n",
       "    <tr>\n",
       "      <th>7</th>\n",
       "      <td>7</td>\n",
       "      <td>784</td>\n",
       "    </tr>\n",
       "    <tr>\n",
       "      <th>8</th>\n",
       "      <td>8</td>\n",
       "      <td>1296</td>\n",
       "    </tr>\n",
       "    <tr>\n",
       "      <th>9</th>\n",
       "      <td>9</td>\n",
       "      <td>2025</td>\n",
       "    </tr>\n",
       "  </tbody>\n",
       "</table>\n",
       "</div>"
      ],
      "text/plain": [
       "   n  un(n)\n",
       "0  0      0\n",
       "1  1      1\n",
       "2  2      9\n",
       "3  3     36\n",
       "4  4    100\n",
       "5  5    225\n",
       "6  6    441\n",
       "7  7    784\n",
       "8  8   1296\n",
       "9  9   2025"
      ]
     },
     "execution_count": 1294,
     "metadata": {},
     "output_type": "execute_result"
    }
   ],
   "source": [
    "x = np.array([int(i) for i in range(offset, n + offset, ecart)])\n",
    "print(\"LONG_X :\", len(x))\n",
    "df = pd.DataFrame({\"un(n)\":y, \"n\":x,})\n",
    "df"
   ]
  },
  {
   "cell_type": "markdown",
   "metadata": {},
   "source": [
    "## Détermination du degré du polynome, de ses coefficients et de ses racines\n",
    "\n",
    "Le coefficient est de la forme : **[an, a(n-1), ..., a1 ,a0]** pour une fonction du type : **f(x) = an*x^n + a(n-1)*x^(n-1) + ... + a1*x + a0**\n",
    "\n",
    "Ex:\n",
    "[0.5 0.5 0] <=> 0.5*x^2 + 0.5*x"
   ]
  },
  {
   "cell_type": "code",
   "execution_count": 1295,
   "metadata": {},
   "outputs": [
    {
     "name": "stdout",
     "output_type": "stream",
     "text": [
      "Degré : 5\n",
      "Coefficients : [0.24999999999999961, 0.50000000000000611, 0.24999999999995609, 0.0, 0.0]\n",
      "Racines :  [-1 -1 0 0]\n"
     ]
    }
   ],
   "source": [
    "p = np.poly1d(np.polyfit(x, y, degre_max))\n",
    "approx_zeros(p)\n",
    "degre = degre_max\n",
    "i = 0\n",
    "\n",
    "while(p.c[0] == 0):\n",
    "    degre = degre - 1\n",
    "    p = np.poly1d(np.polyfit(x, y, degre))\n",
    "    approx_zeros(p)\n",
    "\n",
    "print(\"Degré :\" ,len(p.c))\n",
    "print(\"Coefficients :\", list(p.c))\n",
    "print(\"Racines : \", p.r)"
   ]
  },
  {
   "cell_type": "markdown",
   "metadata": {},
   "source": [
    "___\n",
    "# Visualisation du résultat\n",
    "\n",
    "Nous voyons ici nos deux courbes.\n"
   ]
  },
  {
   "cell_type": "code",
   "execution_count": 1296,
   "metadata": {
    "scrolled": false
   },
   "outputs": [
    {
     "data": {
      "image/png": "[encoded data removed]",
      "text/plain": [
       "<matplotlib.figure.Figure at 0x7fb5af7937f0>"
      ]
     },
     "metadata": {},
     "output_type": "display_data"
    }
   ],
   "source": [
    "plt.figure(figsize=(10, 8))\n",
    "xp = np.linspace(offset, n+offset, 100)\n",
    "_ = plt.plot(x, y, '.', label = 'Points vrais')\n",
    "_ = plt.plot(xp, p(xp), '-', label = 'Polynome après régréssion')\n",
    "\n",
    "plt.xlabel('x')\n",
    "plt.ylabel('y')\n",
    "plt.title(\"Courbe approximée de : \" + nom_suite)\n",
    "\n",
    "\n",
    "plt.legend(handler_map={line1: HandlerLine2D(numpoints=4)})\n",
    "plt.show()"
   ]
  },
  {
   "cell_type": "markdown",
   "metadata": {
    "collapsed": true
   },
   "source": [
    "# Estimation de la formule :\n",
    "S'obtient avec le premier coefficient et les racines\n",
    "Pour rendre le truc beau, on pourrait faire en sorte que les racines soient multipliées jsuqu'à être entières."
   ]
  },
  {
   "cell_type": "code",
   "execution_count": 1302,
   "metadata": {
    "scrolled": true
   },
   "outputs": [
    {
     "name": "stdout",
     "output_type": "stream",
     "text": [
      "ESTIMATION DE LA FORMULE : 1/(4.0)[(n+1.0)(n+1.0)(n+-0.0)(n+-0.0)]\n",
      "\n"
     ]
    }
   ],
   "source": [
    "A = \"1/(\" + str(round(1/p.c[0], 3))+\")\"\n",
    "X = \"\"\n",
    "for i in p.r:\n",
    "    X += \"(n+\" + str(round(-i, 3)) + \")\"\n",
    "print(\"ESTIMATION DE LA FORMULE :\", A + \"[\" + X + \"]\\n\")"
   ]
  },
  {
   "cell_type": "markdown",
   "metadata": {},
   "source": [
    "## Tableau de valeurs\n",
    "Valeurs de n et de Un pour pouvoir vérifier"
   ]
  },
  {
   "cell_type": "code",
   "execution_count": 1298,
   "metadata": {
    "scrolled": false
   },
   "outputs": [
    {
     "name": "stdout",
     "output_type": "stream",
     "text": [
      "EREUR : 0.0\n"
     ]
    },
    {
     "data": {
      "text/html": [
       "<div>\n",
       "<style>\n",
       "    .dataframe thead tr:only-child th {\n",
       "        text-align: right;\n",
       "    }\n",
       "\n",
       "    .dataframe thead th {\n",
       "        text-align: left;\n",
       "    }\n",
       "\n",
       "    .dataframe tbody tr th {\n",
       "        vertical-align: top;\n",
       "    }\n",
       "</style>\n",
       "<table border=\"1\" class=\"dataframe\">\n",
       "  <thead>\n",
       "    <tr style=\"text-align: right;\">\n",
       "      <th></th>\n",
       "      <th>n</th>\n",
       "      <th>un(n)</th>\n",
       "      <th>Estimé</th>\n",
       "      <th>Erreur</th>\n",
       "    </tr>\n",
       "  </thead>\n",
       "  <tbody>\n",
       "    <tr>\n",
       "      <th>0</th>\n",
       "      <td>0</td>\n",
       "      <td>0</td>\n",
       "      <td>0.0</td>\n",
       "      <td>0.0</td>\n",
       "    </tr>\n",
       "    <tr>\n",
       "      <th>1</th>\n",
       "      <td>1</td>\n",
       "      <td>1</td>\n",
       "      <td>1.0</td>\n",
       "      <td>0.0</td>\n",
       "    </tr>\n",
       "    <tr>\n",
       "      <th>2</th>\n",
       "      <td>2</td>\n",
       "      <td>9</td>\n",
       "      <td>9.0</td>\n",
       "      <td>0.0</td>\n",
       "    </tr>\n",
       "    <tr>\n",
       "      <th>3</th>\n",
       "      <td>3</td>\n",
       "      <td>36</td>\n",
       "      <td>36.0</td>\n",
       "      <td>0.0</td>\n",
       "    </tr>\n",
       "    <tr>\n",
       "      <th>4</th>\n",
       "      <td>4</td>\n",
       "      <td>100</td>\n",
       "      <td>100.0</td>\n",
       "      <td>0.0</td>\n",
       "    </tr>\n",
       "    <tr>\n",
       "      <th>5</th>\n",
       "      <td>5</td>\n",
       "      <td>225</td>\n",
       "      <td>225.0</td>\n",
       "      <td>0.0</td>\n",
       "    </tr>\n",
       "    <tr>\n",
       "      <th>6</th>\n",
       "      <td>6</td>\n",
       "      <td>441</td>\n",
       "      <td>441.0</td>\n",
       "      <td>0.0</td>\n",
       "    </tr>\n",
       "    <tr>\n",
       "      <th>7</th>\n",
       "      <td>7</td>\n",
       "      <td>784</td>\n",
       "      <td>784.0</td>\n",
       "      <td>0.0</td>\n",
       "    </tr>\n",
       "    <tr>\n",
       "      <th>8</th>\n",
       "      <td>8</td>\n",
       "      <td>1296</td>\n",
       "      <td>1296.0</td>\n",
       "      <td>0.0</td>\n",
       "    </tr>\n",
       "    <tr>\n",
       "      <th>9</th>\n",
       "      <td>9</td>\n",
       "      <td>2025</td>\n",
       "      <td>2025.0</td>\n",
       "      <td>0.0</td>\n",
       "    </tr>\n",
       "  </tbody>\n",
       "</table>\n",
       "</div>"
      ],
      "text/plain": [
       "   n  un(n)  Estimé  Erreur\n",
       "0  0      0     0.0     0.0\n",
       "1  1      1     1.0     0.0\n",
       "2  2      9     9.0     0.0\n",
       "3  3     36    36.0     0.0\n",
       "4  4    100   100.0     0.0\n",
       "5  5    225   225.0     0.0\n",
       "6  6    441   441.0     0.0\n",
       "7  7    784   784.0     0.0\n",
       "8  8   1296  1296.0     0.0\n",
       "9  9   2025  2025.0     0.0"
      ]
     },
     "execution_count": 1298,
     "metadata": {},
     "output_type": "execute_result"
    }
   ],
   "source": [
    "a = [p(n) for n in range(len(df))]\n",
    "df[\"Estimé\"] = a\n",
    "df[\"Erreur\"] = round(abs(df[\"un(n)\"] - df[\"Estimé\"]), 2)\n",
    "print(\"EREUR :\", df[\"Erreur\"].sum())\n",
    "df"
   ]
  },
  {
   "cell_type": "markdown",
   "metadata": {},
   "source": [
    "# TESTS\n",
    "___"
   ]
  },
  {
   "cell_type": "code",
   "execution_count": 1248,
   "metadata": {},
   "outputs": [
    {
     "name": "stdout",
     "output_type": "stream",
     "text": [
      "[0, 1, 9, 36, 100, 225, 441, 784, 1296]\n"
     ]
    }
   ],
   "source": [
    "y = [sum([k**3 for k in range(j)]) for j in range(1, 10)]\n",
    "print(y)"
   ]
  }
 ],
 "metadata": {
  "kernelspec": {
   "display_name": "Python 3",
   "language": "python",
   "name": "python3"
  },
  "language_info": {
   "codemirror_mode": {
    "name": "ipython",
    "version": 3
   },
   "file_extension": ".py",
   "mimetype": "text/x-python",
   "name": "python",
   "nbconvert_exporter": "python",
   "pygments_lexer": "ipython3",
   "version": "3.6.1"
  }
 },
 "nbformat": 4,
 "nbformat_minor": 1
}
