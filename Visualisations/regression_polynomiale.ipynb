{
 "cells": [
  {
   "cell_type": "markdown",
   "metadata": {},
   "source": [
    "# GenericFormulaFinder (GFF)\n",
    "___\n",
    "#### Ce papier donne au lecteur un outil pour facilement trouver l'approximation d'un polynome correspondant à une suite (si celle-ci s'assimile à un polynome).\n",
    "\n",
    "Ces résultats pourront ensuite être prouvés par hypothèse de récurrence."
   ]
  },
  {
   "cell_type": "code",
   "execution_count": 947,
   "metadata": {
    "collapsed": true
   },
   "outputs": [],
   "source": [
    "import matplotlib.pyplot as plt\n",
    "import numpy as np\n",
    "%matplotlib inline\n",
    "\n",
    "import pandas as pd"
   ]
  },
  {
   "cell_type": "markdown",
   "metadata": {},
   "source": [
    "## Paramètres de calcul de la suite :\n",
    "\n",
    "**nbr_points : ** Le nombre de points de la suite à **afficher** à l'écran (_sert à mieux visualiser les résultats_)\n",
    "\n",
    "**offset : ** Le rang à partir duquel commencer à calculer les termes de la suite\n",
    "\n",
    "**n : ** Le nombre de points de la suite à **calculer**. Un n assez petit (10 ou moins) est recommandé car il permet de créer \"à la main\" y."
   ]
  },
  {
   "cell_type": "code",
   "execution_count": 980,
   "metadata": {
    "collapsed": true
   },
   "outputs": [],
   "source": [
    "nbr_points = 30  # Pas exact comme valeur\n",
    "offset = 0\n",
    "n = 5 \n",
    "degre_max = 4"
   ]
  },
  {
   "cell_type": "code",
   "execution_count": 981,
   "metadata": {
    "collapsed": true
   },
   "outputs": [],
   "source": [
    "def approx_zeros(li):\n",
    "    for i in range(0, len(li) + 1):\n",
    "        if(li[i] < 1e-9):  # Valeur seuil\n",
    "            p[i] = 0"
   ]
  },
  {
   "cell_type": "markdown",
   "metadata": {},
   "source": [
    "## Expression de la suite :\n",
    "\n",
    "Modifiez la liste **y** ci-dessous pour qu'elle corresponde aux premières valeurs de votre suite\n",
    "\n",
    "_n et offset ont déjà étés définis_\n",
    "\n",
    "Faîtes bien attention à faire correspondre x et y"
   ]
  },
  {
   "cell_type": "code",
   "execution_count": 982,
   "metadata": {
    "collapsed": true
   },
   "outputs": [],
   "source": [
    "y = np.array([i*(i+1)/2 for i in range(offset, n + offset, ecart)])\n",
    "y = [0, 2, 8, 20, 40]"
   ]
  },
  {
   "cell_type": "code",
   "execution_count": 983,
   "metadata": {
    "scrolled": true
   },
   "outputs": [],
   "source": [
    "ecart = int((n-offset)/(nbr_points-1) + 1)\n",
    "x = np.array([int(i) for i in range(offset, n + offset, ecart)])\n",
    "\n",
    "df = pd.DataFrame({\"un(n)\":y, \"n\":x,})"
   ]
  },
  {
   "cell_type": "markdown",
   "metadata": {},
   "source": [
    "## Tableau de valeurs\n",
    "Valeurs de n et de Un pour pouvoir vérifier"
   ]
  },
  {
   "cell_type": "code",
   "execution_count": 984,
   "metadata": {
    "scrolled": true
   },
   "outputs": [
    {
     "data": {
      "text/html": [
       "<div>\n",
       "<style>\n",
       "    .dataframe thead tr:only-child th {\n",
       "        text-align: right;\n",
       "    }\n",
       "\n",
       "    .dataframe thead th {\n",
       "        text-align: left;\n",
       "    }\n",
       "\n",
       "    .dataframe tbody tr th {\n",
       "        vertical-align: top;\n",
       "    }\n",
       "</style>\n",
       "<table border=\"1\" class=\"dataframe\">\n",
       "  <thead>\n",
       "    <tr style=\"text-align: right;\">\n",
       "      <th></th>\n",
       "      <th>n</th>\n",
       "      <th>un(n)</th>\n",
       "    </tr>\n",
       "  </thead>\n",
       "  <tbody>\n",
       "    <tr>\n",
       "      <th>0</th>\n",
       "      <td>0</td>\n",
       "      <td>0</td>\n",
       "    </tr>\n",
       "    <tr>\n",
       "      <th>1</th>\n",
       "      <td>1</td>\n",
       "      <td>2</td>\n",
       "    </tr>\n",
       "    <tr>\n",
       "      <th>2</th>\n",
       "      <td>2</td>\n",
       "      <td>8</td>\n",
       "    </tr>\n",
       "    <tr>\n",
       "      <th>3</th>\n",
       "      <td>3</td>\n",
       "      <td>20</td>\n",
       "    </tr>\n",
       "    <tr>\n",
       "      <th>4</th>\n",
       "      <td>4</td>\n",
       "      <td>40</td>\n",
       "    </tr>\n",
       "  </tbody>\n",
       "</table>\n",
       "</div>"
      ],
      "text/plain": [
       "   n  un(n)\n",
       "0  0      0\n",
       "1  1      2\n",
       "2  2      8\n",
       "3  3     20\n",
       "4  4     40"
      ]
     },
     "execution_count": 984,
     "metadata": {},
     "output_type": "execute_result"
    }
   ],
   "source": [
    "df"
   ]
  },
  {
   "cell_type": "markdown",
   "metadata": {},
   "source": [
    "## Détermination du degré du polynome, de ses coefficients et de ses racines\n",
    "\n",
    "Le coefficient est de la forme : **[an, a(n-1), ..., a1 ,a0]** pour une fonction du type : **f(x) = an*x^n + a(n-1)*x^(n-1) + ... + a1*x + a0**\n",
    "\n",
    "Ex:\n",
    "[0.5 0.5 0] <=> 0.5*x^2 + 0.5*x"
   ]
  },
  {
   "cell_type": "code",
   "execution_count": 994,
   "metadata": {},
   "outputs": [
    {
     "name": "stdout",
     "output_type": "stream",
     "text": [
      "Degré : 4\n",
      "Coefficients : [0.33333333333333337, 0.99999999999999967, 0.66666666666666485, 0.0]\n",
      "Racines :  [-2. -1.  0.]\n"
     ]
    }
   ],
   "source": [
    "p = np.poly1d(np.polyfit(x, y, degre_max))\n",
    "approx_zeros(p)\n",
    "degre = degre_max\n",
    "i = 0\n",
    "\n",
    "while(p.c[0] == 0):\n",
    "    degre = degre - 1\n",
    "    p = np.poly1d(np.polyfit(x, y, degre))\n",
    "    approx_zeros(p)\n",
    "\n",
    "print(\"Degré :\" ,len(p.c))\n",
    "print(\"Coefficients :\", list(p.c))\n",
    "print(\"Racines : \", p.r)"
   ]
  },
  {
   "cell_type": "markdown",
   "metadata": {},
   "source": [
    "___\n",
    "# Visualisation du résultat\n",
    "\n",
    "Nous voyons ici nos deux courbes.\n"
   ]
  },
  {
   "cell_type": "code",
   "execution_count": 996,
   "metadata": {
    "scrolled": false
   },
   "outputs": [
    {
     "data": {
      "image/png": "[encoded data removed]",
      "text/plain": [
       "<matplotlib.figure.Figure at 0x7fb5af896a58>"
      ]
     },
     "metadata": {},
     "output_type": "display_data"
    }
   ],
   "source": [
    "plt.figure(figsize=(10, 8))\n",
    "xp = np.linspace(offset, n+offset, 100)\n",
    "_ = plt.plot(x, y, '.', label = 'Points vrais')\n",
    "_ = plt.plot(xp, p(xp), '-', label = 'Polynome après régréssion')\n",
    "\n",
    "plt.xlabel('x')\n",
    "plt.ylabel('y')\n",
    "plt.title('Courbe approximée de la suite :')\n",
    "\n",
    "\n",
    "plt.legend(handler_map={line1: HandlerLine2D(numpoints=4)})\n",
    "plt.show()"
   ]
  },
  {
   "cell_type": "code",
   "execution_count": null,
   "metadata": {
    "collapsed": true
   },
   "outputs": [],
   "source": []
  },
  {
   "cell_type": "code",
   "execution_count": null,
   "metadata": {
    "collapsed": true
   },
   "outputs": [],
   "source": []
  }
 ],
 "metadata": {
  "kernelspec": {
   "display_name": "Python 3",
   "language": "python",
   "name": "python3"
  },
  "language_info": {
   "codemirror_mode": {
    "name": "ipython",
    "version": 3
   },
   "file_extension": ".py",
   "mimetype": "text/x-python",
   "name": "python",
   "nbconvert_exporter": "python",
   "pygments_lexer": "ipython3",
   "version": "3.6.1"
  }
 },
 "nbformat": 4,
 "nbformat_minor": 1
}
